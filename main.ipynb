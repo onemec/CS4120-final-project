{
 "cells": [
  {
   "cell_type": "code",
   "execution_count": 7,
   "id": "9ee27d1dc769d5d4",
   "metadata": {
    "ExecuteTime": {
     "end_time": "2023-11-30T01:28:26.045379Z",
     "start_time": "2023-11-30T01:28:20.235016Z"
    },
    "collapsed": false
   },
   "outputs": [
    {
     "name": "stdout",
     "output_type": "stream",
     "text": [
      "Requirement already satisfied: pandas in ./venv/lib/python3.11/site-packages (2.1.3)\n",
      "Requirement already satisfied: pyarrow in ./venv/lib/python3.11/site-packages (14.0.1)\n",
      "Requirement already satisfied: fastparquet in ./venv/lib/python3.11/site-packages (2023.10.1)\n",
      "Requirement already satisfied: transformers in ./venv/lib/python3.11/site-packages (4.35.2)\n",
      "Requirement already satisfied: tensorflow in ./venv/lib/python3.11/site-packages (2.15.0)\n",
      "Collecting scikit-learn\n",
      "  Using cached scikit_learn-1.3.2-cp311-cp311-macosx_12_0_arm64.whl.metadata (11 kB)\n",
      "Requirement already satisfied: numpy<2,>=1.23.2 in ./venv/lib/python3.11/site-packages (from pandas) (1.26.2)\n",
      "Requirement already satisfied: python-dateutil>=2.8.2 in ./venv/lib/python3.11/site-packages (from pandas) (2.8.2)\n",
      "Requirement already satisfied: pytz>=2020.1 in ./venv/lib/python3.11/site-packages (from pandas) (2023.3.post1)\n",
      "Requirement already satisfied: tzdata>=2022.1 in ./venv/lib/python3.11/site-packages (from pandas) (2023.3)\n",
      "Requirement already satisfied: cramjam>=2.3 in ./venv/lib/python3.11/site-packages (from fastparquet) (2.7.0)\n",
      "Requirement already satisfied: fsspec in ./venv/lib/python3.11/site-packages (from fastparquet) (2023.10.0)\n",
      "Requirement already satisfied: packaging in ./venv/lib/python3.11/site-packages (from fastparquet) (23.2)\n",
      "Requirement already satisfied: filelock in ./venv/lib/python3.11/site-packages (from transformers) (3.13.1)\n",
      "Requirement already satisfied: huggingface-hub<1.0,>=0.16.4 in ./venv/lib/python3.11/site-packages (from transformers) (0.19.4)\n",
      "Requirement already satisfied: pyyaml>=5.1 in ./venv/lib/python3.11/site-packages (from transformers) (6.0.1)\n",
      "Requirement already satisfied: regex!=2019.12.17 in ./venv/lib/python3.11/site-packages (from transformers) (2023.10.3)\n",
      "Requirement already satisfied: requests in ./venv/lib/python3.11/site-packages (from transformers) (2.31.0)\n",
      "Requirement already satisfied: tokenizers<0.19,>=0.14 in ./venv/lib/python3.11/site-packages (from transformers) (0.15.0)\n",
      "Requirement already satisfied: safetensors>=0.3.1 in ./venv/lib/python3.11/site-packages (from transformers) (0.4.1)\n",
      "Requirement already satisfied: tqdm>=4.27 in ./venv/lib/python3.11/site-packages (from transformers) (4.66.1)\n",
      "Requirement already satisfied: tensorflow-macos==2.15.0 in ./venv/lib/python3.11/site-packages (from tensorflow) (2.15.0)\n",
      "Requirement already satisfied: absl-py>=1.0.0 in ./venv/lib/python3.11/site-packages (from tensorflow-macos==2.15.0->tensorflow) (2.0.0)\n",
      "Requirement already satisfied: astunparse>=1.6.0 in ./venv/lib/python3.11/site-packages (from tensorflow-macos==2.15.0->tensorflow) (1.6.3)\n",
      "Requirement already satisfied: flatbuffers>=23.5.26 in ./venv/lib/python3.11/site-packages (from tensorflow-macos==2.15.0->tensorflow) (23.5.26)\n",
      "Requirement already satisfied: gast!=0.5.0,!=0.5.1,!=0.5.2,>=0.2.1 in ./venv/lib/python3.11/site-packages (from tensorflow-macos==2.15.0->tensorflow) (0.5.4)\n",
      "Requirement already satisfied: google-pasta>=0.1.1 in ./venv/lib/python3.11/site-packages (from tensorflow-macos==2.15.0->tensorflow) (0.2.0)\n",
      "Requirement already satisfied: h5py>=2.9.0 in ./venv/lib/python3.11/site-packages (from tensorflow-macos==2.15.0->tensorflow) (3.10.0)\n",
      "Requirement already satisfied: libclang>=13.0.0 in ./venv/lib/python3.11/site-packages (from tensorflow-macos==2.15.0->tensorflow) (16.0.6)\n",
      "Requirement already satisfied: ml-dtypes~=0.2.0 in ./venv/lib/python3.11/site-packages (from tensorflow-macos==2.15.0->tensorflow) (0.2.0)\n",
      "Requirement already satisfied: opt-einsum>=2.3.2 in ./venv/lib/python3.11/site-packages (from tensorflow-macos==2.15.0->tensorflow) (3.3.0)\n",
      "Requirement already satisfied: protobuf!=4.21.0,!=4.21.1,!=4.21.2,!=4.21.3,!=4.21.4,!=4.21.5,<5.0.0dev,>=3.20.3 in ./venv/lib/python3.11/site-packages (from tensorflow-macos==2.15.0->tensorflow) (4.23.4)\n",
      "Requirement already satisfied: setuptools in ./venv/lib/python3.11/site-packages (from tensorflow-macos==2.15.0->tensorflow) (69.0.2)\n",
      "Requirement already satisfied: six>=1.12.0 in ./venv/lib/python3.11/site-packages (from tensorflow-macos==2.15.0->tensorflow) (1.16.0)\n",
      "Requirement already satisfied: termcolor>=1.1.0 in ./venv/lib/python3.11/site-packages (from tensorflow-macos==2.15.0->tensorflow) (2.3.0)\n",
      "Requirement already satisfied: typing-extensions>=3.6.6 in ./venv/lib/python3.11/site-packages (from tensorflow-macos==2.15.0->tensorflow) (4.8.0)\n",
      "Requirement already satisfied: wrapt<1.15,>=1.11.0 in ./venv/lib/python3.11/site-packages (from tensorflow-macos==2.15.0->tensorflow) (1.14.1)\n",
      "Requirement already satisfied: tensorflow-io-gcs-filesystem>=0.23.1 in ./venv/lib/python3.11/site-packages (from tensorflow-macos==2.15.0->tensorflow) (0.34.0)\n",
      "Requirement already satisfied: grpcio<2.0,>=1.24.3 in ./venv/lib/python3.11/site-packages (from tensorflow-macos==2.15.0->tensorflow) (1.59.3)\n",
      "Requirement already satisfied: tensorboard<2.16,>=2.15 in ./venv/lib/python3.11/site-packages (from tensorflow-macos==2.15.0->tensorflow) (2.15.1)\n",
      "Requirement already satisfied: tensorflow-estimator<2.16,>=2.15.0 in ./venv/lib/python3.11/site-packages (from tensorflow-macos==2.15.0->tensorflow) (2.15.0)\n",
      "Requirement already satisfied: keras<2.16,>=2.15.0 in ./venv/lib/python3.11/site-packages (from tensorflow-macos==2.15.0->tensorflow) (2.15.0)\n",
      "Collecting scipy>=1.5.0 (from scikit-learn)\n",
      "  Downloading scipy-1.11.4-cp311-cp311-macosx_12_0_arm64.whl.metadata (165 kB)\n",
      "\u001b[2K     \u001b[90m━━━━━━━━━━━━━━━━━━━━━━━━━━━━━━━━━━━━━━━\u001b[0m \u001b[32m165.4/165.4 kB\u001b[0m \u001b[31m4.7 MB/s\u001b[0m eta \u001b[36m0:00:00\u001b[0m\n",
      "\u001b[?25hCollecting joblib>=1.1.1 (from scikit-learn)\n",
      "  Using cached joblib-1.3.2-py3-none-any.whl.metadata (5.4 kB)\n",
      "Collecting threadpoolctl>=2.0.0 (from scikit-learn)\n",
      "  Using cached threadpoolctl-3.2.0-py3-none-any.whl.metadata (10.0 kB)\n",
      "Requirement already satisfied: charset-normalizer<4,>=2 in ./venv/lib/python3.11/site-packages (from requests->transformers) (3.3.2)\n",
      "Requirement already satisfied: idna<4,>=2.5 in ./venv/lib/python3.11/site-packages (from requests->transformers) (3.6)\n",
      "Requirement already satisfied: urllib3<3,>=1.21.1 in ./venv/lib/python3.11/site-packages (from requests->transformers) (2.1.0)\n",
      "Requirement already satisfied: certifi>=2017.4.17 in ./venv/lib/python3.11/site-packages (from requests->transformers) (2023.11.17)\n",
      "Requirement already satisfied: wheel<1.0,>=0.23.0 in ./venv/lib/python3.11/site-packages (from astunparse>=1.6.0->tensorflow-macos==2.15.0->tensorflow) (0.42.0)\n",
      "Requirement already satisfied: google-auth<3,>=1.6.3 in ./venv/lib/python3.11/site-packages (from tensorboard<2.16,>=2.15->tensorflow-macos==2.15.0->tensorflow) (2.23.4)\n",
      "Requirement already satisfied: google-auth-oauthlib<2,>=0.5 in ./venv/lib/python3.11/site-packages (from tensorboard<2.16,>=2.15->tensorflow-macos==2.15.0->tensorflow) (1.1.0)\n",
      "Requirement already satisfied: markdown>=2.6.8 in ./venv/lib/python3.11/site-packages (from tensorboard<2.16,>=2.15->tensorflow-macos==2.15.0->tensorflow) (3.5.1)\n",
      "Requirement already satisfied: tensorboard-data-server<0.8.0,>=0.7.0 in ./venv/lib/python3.11/site-packages (from tensorboard<2.16,>=2.15->tensorflow-macos==2.15.0->tensorflow) (0.7.2)\n",
      "Requirement already satisfied: werkzeug>=1.0.1 in ./venv/lib/python3.11/site-packages (from tensorboard<2.16,>=2.15->tensorflow-macos==2.15.0->tensorflow) (3.0.1)\n",
      "Requirement already satisfied: cachetools<6.0,>=2.0.0 in ./venv/lib/python3.11/site-packages (from google-auth<3,>=1.6.3->tensorboard<2.16,>=2.15->tensorflow-macos==2.15.0->tensorflow) (5.3.2)\n",
      "Requirement already satisfied: pyasn1-modules>=0.2.1 in ./venv/lib/python3.11/site-packages (from google-auth<3,>=1.6.3->tensorboard<2.16,>=2.15->tensorflow-macos==2.15.0->tensorflow) (0.3.0)\n",
      "Requirement already satisfied: rsa<5,>=3.1.4 in ./venv/lib/python3.11/site-packages (from google-auth<3,>=1.6.3->tensorboard<2.16,>=2.15->tensorflow-macos==2.15.0->tensorflow) (4.9)\n",
      "Requirement already satisfied: requests-oauthlib>=0.7.0 in ./venv/lib/python3.11/site-packages (from google-auth-oauthlib<2,>=0.5->tensorboard<2.16,>=2.15->tensorflow-macos==2.15.0->tensorflow) (1.3.1)\n",
      "Requirement already satisfied: MarkupSafe>=2.1.1 in ./venv/lib/python3.11/site-packages (from werkzeug>=1.0.1->tensorboard<2.16,>=2.15->tensorflow-macos==2.15.0->tensorflow) (2.1.3)\n",
      "Requirement already satisfied: pyasn1<0.6.0,>=0.4.6 in ./venv/lib/python3.11/site-packages (from pyasn1-modules>=0.2.1->google-auth<3,>=1.6.3->tensorboard<2.16,>=2.15->tensorflow-macos==2.15.0->tensorflow) (0.5.1)\n",
      "Requirement already satisfied: oauthlib>=3.0.0 in ./venv/lib/python3.11/site-packages (from requests-oauthlib>=0.7.0->google-auth-oauthlib<2,>=0.5->tensorboard<2.16,>=2.15->tensorflow-macos==2.15.0->tensorflow) (3.2.2)\n",
      "Using cached scikit_learn-1.3.2-cp311-cp311-macosx_12_0_arm64.whl (9.4 MB)\n",
      "Using cached joblib-1.3.2-py3-none-any.whl (302 kB)\n",
      "Downloading scipy-1.11.4-cp311-cp311-macosx_12_0_arm64.whl (29.7 MB)\n",
      "\u001b[2K   \u001b[90m━━━━━━━━━━━━━━━━━━━━━━━━━━━━━━━━━━━━━━━━\u001b[0m \u001b[32m29.7/29.7 MB\u001b[0m \u001b[31m25.7 MB/s\u001b[0m eta \u001b[36m0:00:00\u001b[0m00:01\u001b[0m00:01\u001b[0m\n",
      "\u001b[?25hUsing cached threadpoolctl-3.2.0-py3-none-any.whl (15 kB)\n",
      "Installing collected packages: threadpoolctl, scipy, joblib, scikit-learn\n",
      "Successfully installed joblib-1.3.2 scikit-learn-1.3.2 scipy-1.11.4 threadpoolctl-3.2.0\n"
     ]
    }
   ],
   "source": [
    "!pip3 install pandas pyarrow fastparquet transformers tensorflow scikit-learn"
   ]
  },
  {
   "cell_type": "code",
   "execution_count": 2,
   "id": "initial_id",
   "metadata": {
    "ExecuteTime": {
     "end_time": "2023-11-30T01:28:33.275612Z",
     "start_time": "2023-11-30T01:28:33.143139Z"
    },
    "collapsed": false
   },
   "outputs": [
    {
     "data": {
      "text/html": [
       "<div>\n",
       "<style scoped>\n",
       "    .dataframe tbody tr th:only-of-type {\n",
       "        vertical-align: middle;\n",
       "    }\n",
       "\n",
       "    .dataframe tbody tr th {\n",
       "        vertical-align: top;\n",
       "    }\n",
       "\n",
       "    .dataframe thead th {\n",
       "        text-align: right;\n",
       "    }\n",
       "</style>\n",
       "<table border=\"1\" class=\"dataframe\">\n",
       "  <thead>\n",
       "    <tr style=\"text-align: right;\">\n",
       "      <th></th>\n",
       "      <th>desc</th>\n",
       "      <th>decl</th>\n",
       "      <th>bodies</th>\n",
       "    </tr>\n",
       "  </thead>\n",
       "  <tbody>\n",
       "    <tr>\n",
       "      <th>0</th>\n",
       "      <td>'load a Python source file and compile it to b...</td>\n",
       "      <td>def _load_file(filename):\\n</td>\n",
       "      <td>fp = open(filename, 'rb')\\n    source = (f...</td>\n",
       "    </tr>\n",
       "    <tr>\n",
       "      <th>1</th>\n",
       "      <td>'load a module without importing it\\n_load_mod...</td>\n",
       "      <td>def _load_module(filename):\\n</td>\n",
       "      <td>import magics, marshal\\n    fp = open(file...</td>\n",
       "    </tr>\n",
       "    <tr>\n",
       "      <th>2</th>\n",
       "      <td>'diassembles a given code block \\'co\\''\\n</td>\n",
       "      <td>def uncompyle(version, co, out=None, showasm=0...</td>\n",
       "      <td>assert (type(co) == types.CodeType)\\n    _...</td>\n",
       "    </tr>\n",
       "    <tr>\n",
       "      <th>3</th>\n",
       "      <td>'decompile Python byte-code file (.pyc)'\\n</td>\n",
       "      <td>def uncompyle_file(filename, outstream=None, s...</td>\n",
       "      <td>(version, co) = _load_module(filename)\\n  ...</td>\n",
       "    </tr>\n",
       "    <tr>\n",
       "      <th>4</th>\n",
       "      <td>'in_base     base directory for input files\\no...</td>\n",
       "      <td>def main(in_base, out_base, files, codes, outf...</td>\n",
       "      <td>def _get_outstream(outfile):\\n        dir ...</td>\n",
       "    </tr>\n",
       "    <tr>\n",
       "      <th>...</th>\n",
       "      <td>...</td>\n",
       "      <td>...</td>\n",
       "      <td>...</td>\n",
       "    </tr>\n",
       "    <tr>\n",
       "      <th>148597</th>\n",
       "      <td>'Start a server instance. This method blocks u...</td>\n",
       "      <td>def run(app=None, server='wsgiref', host='127....</td>\n",
       "      <td>if NORUN:\\n        return\\n    if (reloade...</td>\n",
       "    </tr>\n",
       "    <tr>\n",
       "      <th>148598</th>\n",
       "      <td>'Get a rendered template as a string iterator....</td>\n",
       "      <td>def template(*args, **kwargs):\\n</td>\n",
       "      <td>tpl = (args[0] if args else None)\\n    ada...</td>\n",
       "    </tr>\n",
       "    <tr>\n",
       "      <th>148599</th>\n",
       "      <td>'Decorator: renders a template for a handler.\\...</td>\n",
       "      <td>def view(tpl_name, **defaults):\\n</td>\n",
       "      <td>def decorator(func):\\n        @functools.w...</td>\n",
       "    </tr>\n",
       "    <tr>\n",
       "      <th>148600</th>\n",
       "      <td>'Return a string describing the probable encod...</td>\n",
       "      <td>def description_of(lines, name=u'stdin'):\\n</td>\n",
       "      <td>u = UniversalDetector()\\n    for line in l...</td>\n",
       "    </tr>\n",
       "    <tr>\n",
       "      <th>148601</th>\n",
       "      <td>'Handles command line arguments and gets thing...</td>\n",
       "      <td>def main(argv=None):\\n</td>\n",
       "      <td>parser = argparse.ArgumentParser(descripti...</td>\n",
       "    </tr>\n",
       "  </tbody>\n",
       "</table>\n",
       "<p>148602 rows × 3 columns</p>\n",
       "</div>"
      ],
      "text/plain": [
       "                                                     desc  \\\n",
       "0       'load a Python source file and compile it to b...   \n",
       "1       'load a module without importing it\\n_load_mod...   \n",
       "2               'diassembles a given code block \\'co\\''\\n   \n",
       "3              'decompile Python byte-code file (.pyc)'\\n   \n",
       "4       'in_base     base directory for input files\\no...   \n",
       "...                                                   ...   \n",
       "148597  'Start a server instance. This method blocks u...   \n",
       "148598  'Get a rendered template as a string iterator....   \n",
       "148599  'Decorator: renders a template for a handler.\\...   \n",
       "148600  'Return a string describing the probable encod...   \n",
       "148601  'Handles command line arguments and gets thing...   \n",
       "\n",
       "                                                     decl  \\\n",
       "0                             def _load_file(filename):\\n   \n",
       "1                           def _load_module(filename):\\n   \n",
       "2       def uncompyle(version, co, out=None, showasm=0...   \n",
       "3       def uncompyle_file(filename, outstream=None, s...   \n",
       "4       def main(in_base, out_base, files, codes, outf...   \n",
       "...                                                   ...   \n",
       "148597  def run(app=None, server='wsgiref', host='127....   \n",
       "148598                   def template(*args, **kwargs):\\n   \n",
       "148599                  def view(tpl_name, **defaults):\\n   \n",
       "148600        def description_of(lines, name=u'stdin'):\\n   \n",
       "148601                             def main(argv=None):\\n   \n",
       "\n",
       "                                                   bodies  \n",
       "0           fp = open(filename, 'rb')\\n    source = (f...  \n",
       "1           import magics, marshal\\n    fp = open(file...  \n",
       "2           assert (type(co) == types.CodeType)\\n    _...  \n",
       "3           (version, co) = _load_module(filename)\\n  ...  \n",
       "4           def _get_outstream(outfile):\\n        dir ...  \n",
       "...                                                   ...  \n",
       "148597      if NORUN:\\n        return\\n    if (reloade...  \n",
       "148598      tpl = (args[0] if args else None)\\n    ada...  \n",
       "148599      def decorator(func):\\n        @functools.w...  \n",
       "148600      u = UniversalDetector()\\n    for line in l...  \n",
       "148601      parser = argparse.ArgumentParser(descripti...  \n",
       "\n",
       "[148602 rows x 3 columns]"
      ]
     },
     "execution_count": 2,
     "metadata": {},
     "output_type": "execute_result"
    }
   ],
   "source": [
    "import pandas as pd\n",
    "\n",
    "# viewing the data\n",
    "top_data = \"data/top_level-00000-of-00001.parquet\"\n",
    "top_df = pd.read_parquet(top_data)\n",
    "top_df"
   ]
  },
  {
   "cell_type": "code",
   "execution_count": 3,
   "id": "2af88c82ea23a738",
   "metadata": {
    "collapsed": false
   },
   "outputs": [
    {
     "name": "stderr",
     "output_type": "stream",
     "text": [
      "Some weights of the PyTorch model were not used when initializing the TF 2.0 model TFBertModel: ['cls.seq_relationship.bias', 'cls.predictions.bias', 'cls.seq_relationship.weight', 'cls.predictions.transform.LayerNorm.weight', 'cls.predictions.transform.LayerNorm.bias', 'cls.predictions.transform.dense.bias', 'cls.predictions.transform.dense.weight']\n",
      "- This IS expected if you are initializing TFBertModel from a PyTorch model trained on another task or with another architecture (e.g. initializing a TFBertForSequenceClassification model from a BertForPreTraining model).\n",
      "- This IS NOT expected if you are initializing TFBertModel from a PyTorch model that you expect to be exactly identical (e.g. initializing a TFBertForSequenceClassification model from a BertForSequenceClassification model).\n",
      "All the weights of TFBertModel were initialized from the PyTorch model.\n",
      "If your task is similar to the task the model of the checkpoint was trained on, you can already use TFBertModel for predictions without further training.\n"
     ]
    }
   ],
   "source": [
    "from transformers import BertTokenizer, TFBertModel, T5Tokenizer, TFT5Model\n",
    "\n",
    "bert_tokenizer = BertTokenizer.from_pretrained(\"bert-base-uncased\")\n",
    "bert_model = TFBertModel.from_pretrained(\"bert-base-uncased\")\n",
    "\n",
    "t5_tokenizer = T5Tokenizer.from_pretrained(\"t5-base\")\n",
    "t5_model = TFT5Model.from_pretrained(\"t5-base\")"
   ]
  },
  {
   "cell_type": "code",
   "execution_count": 4,
   "metadata": {},
   "outputs": [
    {
     "name": "stdout",
     "output_type": "stream",
     "text": [
      "input_ids :  tf.Tensor([[  101  7592  1010  2026  3899  2003  2025 10140  1010  2053  2428   102]], shape=(1, 12), dtype=int32)\n",
      "token_type_ids :  tf.Tensor([[0 0 0 0 0 0 0 0 0 0 0 0]], shape=(1, 12), dtype=int32)\n",
      "attention_mask :  tf.Tensor([[1 1 1 1 1 1 1 1 1 1 1 1]], shape=(1, 12), dtype=int32)\n",
      "[CLS] hello, my dog is not cute, no really [SEP]\n"
     ]
    }
   ],
   "source": [
    "input_text = \"Hello, my dog is not cute, no really\"\n",
    "bert_tokenized_sentence = bert_tokenizer(\n",
    "    input_text, max_length=15, truncation=True, return_tensors=\"tf\"\n",
    ")\n",
    "\n",
    "for key in bert_tokenized_sentence:\n",
    "    print(key, \": \", bert_tokenized_sentence[key])\n",
    "print(bert_tokenizer.decode(bert_tokenized_sentence[\"input_ids\"][0]))"
   ]
  },
  {
   "cell_type": "code",
   "execution_count": 8,
   "metadata": {},
   "outputs": [],
   "source": [
    "from sklearn.model_selection import train_test_split\n",
    "\n",
    "train_df, val_df = train_test_split(top_df, test_size=0.2)"
   ]
  }
 ],
 "metadata": {
  "kernelspec": {
   "display_name": "Python 3",
   "language": "python",
   "name": "python3"
  },
  "language_info": {
   "codemirror_mode": {
    "name": "ipython",
    "version": 3
   },
   "file_extension": ".py",
   "mimetype": "text/x-python",
   "name": "python",
   "nbconvert_exporter": "python",
   "pygments_lexer": "ipython3",
   "version": "3.11.6"
  }
 },
 "nbformat": 4,
 "nbformat_minor": 5
}
